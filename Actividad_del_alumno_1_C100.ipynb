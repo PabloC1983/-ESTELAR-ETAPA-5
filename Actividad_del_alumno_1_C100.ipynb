{
  "nbformat": 4,
  "nbformat_minor": 0,
  "metadata": {
    "colab": {
      "provenance": [],
      "include_colab_link": true
    },
    "kernelspec": {
      "name": "python3",
      "display_name": "Python 3"
    },
    "language_info": {
      "name": "python"
    }
  },
  "cells": [
    {
      "cell_type": "markdown",
      "metadata": {
        "id": "view-in-github",
        "colab_type": "text"
      },
      "source": [
        "<a href=\"https://colab.research.google.com/github/PabloC1983/-ESTELAR-ETAPA-5/blob/main/Actividad_del_alumno_1_C100.ipynb\" target=\"_parent\"><img src=\"https://colab.research.google.com/assets/colab-badge.svg\" alt=\"Open In Colab\"/></a>"
      ]
    },
    {
      "cell_type": "markdown",
      "metadata": {
        "id": "FEJpk7d85AEe"
      },
      "source": [
        "## Agenda telefónica"
      ]
    },
    {
      "cell_type": "code",
      "metadata": {
        "id": "TvPncZmt4lLb"
      },
      "source": [
        "# Define la clase\n",
        "class Contact_Details:\n",
        "\n",
        "    # Define los atributos de la clase  \n",
        "    def __init__(self, nombre, numero_telefono, correo, direccion):\n",
        "        self.contact_name = nombre\n",
        "        self.contact_number = numero_telefono\n",
        "        self.email = correo\n",
        "        self.contact_address = direccion       \n",
        "\n",
        "        # Crea un dictionary de los detalles de contacto \n",
        "        self.person = {\n",
        "            \"nombre\": self.contact_name,\n",
        "            \"télefono\" : self.contact_number,\n",
        "            \"correo\": self.email,\n",
        "            \"dirección\": self.contact_address\n",
        "        } \n",
        "       \n",
        "\n",
        "    # Define los métodos de la clase\n",
        "    def view_contact_details(self, contact_list): \n",
        "         print(contact_list)\n",
        "\n",
        "    # Agrega los detalles del contacto a la lista    \n",
        "    def add_contact_details(self, contact_list):      \n",
        "      contact_list.append(self.person)\n",
        "\n",
        "    # REEMPLAZA ESTE COMENTARIO CON CÓDIGO#"
      ],
      "execution_count": 13,
      "outputs": []
    },
    {
      "cell_type": "code",
      "metadata": {
        "id": "IhfI3d6OF6K8"
      },
      "source": [
        "# Crea el objeto de la clase\n",
        "phonebook_list=[]\n",
        "new_contact=Contact_Details(\"Carlos\", 5529383474, \"Carlos1232@gmail.com\",\"calle siempre viva 123\")\n"
      ],
      "execution_count": 14,
      "outputs": []
    },
    {
      "cell_type": "code",
      "metadata": {
        "id": "kWMf88E6jMn3"
      },
      "source": [
        "# Llama a los métodos de la clase\n",
        "new_contact.add_contact_details(phonebook_list)"
      ],
      "execution_count": 15,
      "outputs": []
    },
    {
      "cell_type": "code",
      "source": [
        "new_contact.view_contact_details(phonebook_list)"
      ],
      "metadata": {
        "id": "YqStpl3ZUlnR",
        "outputId": "ba9d5d8a-9b66-4f33-c40d-70bcb629a9a9",
        "colab": {
          "base_uri": "https://localhost:8080/"
        }
      },
      "execution_count": 18,
      "outputs": [
        {
          "output_type": "stream",
          "name": "stdout",
          "text": [
            "[{'nombre': 'Carlos', 'télefono': 5529383474, 'correo': 'Carlos1232@gmail.com', 'dirección': 'calle siempre viva 123'}]\n"
          ]
        }
      ]
    }
  ]
}